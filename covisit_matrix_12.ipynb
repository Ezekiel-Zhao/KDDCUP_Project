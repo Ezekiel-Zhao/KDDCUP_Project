{
 "cells": [
  {
   "cell_type": "markdown",
   "metadata": {},
   "source": [
    "# In this notebook, window size is (0,1]"
   ]
  },
  {
   "cell_type": "code",
   "execution_count": 16,
   "metadata": {},
   "outputs": [],
   "source": [
    "from collections import defaultdict, Counter\n",
    "from typing import List, Dict, Union\n",
    "\n",
    "from tqdm import tqdm\n",
    "import polars as pl"
   ]
  },
  {
   "cell_type": "code",
   "execution_count": 17,
   "metadata": {},
   "outputs": [],
   "source": [
    "def construct_session_sequnce(df: pl.DataFrame) -> pl.DataFrame:\n",
    "  df = df.explode(['prev_items']) # Expand each item in prev_items into distinct rows\n",
    "  df = df.with_columns(\n",
    "        df.select(pl.col(\"session_id\").cum_count().over('session_id').alias(\"sequence_num\"))\n",
    "    ) # add column 'sequence_num' as the position in the sequence 'session_id'\n",
    "  return df"
   ]
  },
  {
   "cell_type": "code",
   "execution_count": 18,
   "metadata": {},
   "outputs": [],
   "source": [
    "def covisit_matrix(df:pl.DataFrame) -> pl.DataFrame:\n",
    "    # Creation of co-occurrence pairs\n",
    "    df = df[[\"session_id\", \"prev_items\", \"sequence_num\"]].join(df[[\"session_id\", \"prev_items\", \"sequence_num\"]], on=\"session_id\")\n",
    "\n",
    "    # Calculate the co-occurrence interval and filter\n",
    "    df = df.with_columns(\n",
    "        (pl.col(\"sequence_num_right\").cast(pl.Int64) - pl.col(\"sequence_num\").cast(pl.Int64)).alias(\"diff_sequence_num\")\n",
    "    )\n",
    "    df = df.filter((pl.col(\"diff_sequence_num\") == 1))\n",
    "    df = df.filter(pl.col(\"prev_items\") != pl.col(\"prev_items_right\"))\n",
    "\n",
    "    # Calculate weight and sum for each co-occurrence pair\n",
    "    df = df.with_columns(\n",
    "        pl.lit(1).alias(\"consective_1_weight\")\n",
    "    )\n",
    "    df = df.groupby([\"prev_items\", \"prev_items_right\"]).sum()\n",
    "    df = df.rename({\"prev_items\":\"item\", \"prev_items_right\":\"candidate_item\"})[[\"item\", \"candidate_item\", \"consective_1_weight\"]]\n",
    "\n",
    "    return df"
   ]
  },
  {
   "cell_type": "code",
   "execution_count": 19,
   "metadata": {},
   "outputs": [],
   "source": [
    "\"\"\"\n",
    "从“共同访问矩阵”（co_visit_matrix）中过滤出在指定地区（LOCALES 列表中）都可用的商品对，计算共同访问的权重并进行排名。\n",
    "\"\"\"\n",
    "def filter_by_locale_availability(co_visit_matrix:pl.DataFrame, product:pl.DataFrame):\n",
    "    product = product.unique(subset=[\"id\"])\n",
    "    product = product[[\"id\", \"available_locales\"]]\n",
    "    co_visit_matrix = co_visit_matrix.join(product, left_on=\"item\", right_on=\"id\", how=\"left\").rename({\"available_locales\":\"item_locales\"})\n",
    "    co_visit_matrix = co_visit_matrix.join(product, left_on=\"candidate_item\", right_on=\"id\", how=\"left\").rename({\"available_locales\":\"candidate_item_locales\"})\n",
    "    dfs = []\n",
    "    for locale in LOCALES:\n",
    "        df = co_visit_matrix.filter(pl.lit(locale).is_in(pl.col(\"item_locales\")) & pl.lit(locale).is_in(pl.col(\"candidate_item_locales\")))\n",
    "        df = df.with_columns(pl.lit(locale).alias(\"locale\"))\n",
    "        df = df[[\"item\", \"candidate_item\", \"consective_1_weight\", \"locale\"]]\n",
    "        df = df.sort([\"item\", \"consective_1_weight\"], descending=[False, True])\n",
    "        df = df.groupby(\"item\", maintain_order=True).head(TOP_N)\n",
    "        df = df.with_columns(\n",
    "            pl.col(\"consective_1_weight\").rank(descending=True, method=\"min\").over(\"item\").alias(\"consective_1_rank\")\n",
    "        )\n",
    "        dfs.append(df)\n",
    "    co_visit_matrix = pl.concat(dfs)\n",
    "    return co_visit_matrix"
   ]
  },
  {
   "cell_type": "markdown",
   "metadata": {},
   "source": [
    "**Build the co-visit matrix**"
   ]
  },
  {
   "cell_type": "code",
   "execution_count": 20,
   "metadata": {},
   "outputs": [],
   "source": [
    "#WINDOW_N = 10\n",
    "#WEIGHTS = {-10:0.01, -9:0.01, -8:0.01, -7:0.01, -6:0.01, -5:0.05, -4:0.05, -3:0.1, -2:0.25, -1:0.5, 1:3, \\ 2:0.5, 3:0.25, 4:0.1, 5:0.05, 6:0.01, 7:0.01, 8:0.01, 9:0.01, 10:0.01, }\n",
    "TOP_N = 200\n",
    "LOCALES = [\"DE\", \"UK\", \"JP\"]\n",
    "version = \"12\""
   ]
  },
  {
   "cell_type": "code",
   "execution_count": 21,
   "metadata": {},
   "outputs": [
    {
     "name": "stderr",
     "output_type": "stream",
     "text": [
      "/tmp/ipykernel_2496/3948725079.py:10: MapWithoutReturnDtypeWarning: Calling `map_elements` without specifying `return_dtype` can lead to unpredictable results. Specify `return_dtype` to silence this warning.\n",
      "  df = df.with_columns(\n"
     ]
    }
   ],
   "source": [
    "train = pl.read_parquet(\"/root/KDDCUP/KDDCUP_DATA_CLEANED/task1_session_train.parquet\")\n",
    "train = construct_session_sequnce(train)\n",
    "product = pl.read_parquet(\"/root/KDDCUP/KDDCUP_DATA_CLEANED/product.parquet\")\n",
    "co_visit_matrix = covisit_matrix(train)\n",
    "co_visit_matrix = filter_by_locale_availability(co_visit_matrix, product)"
   ]
  },
  {
   "cell_type": "code",
   "execution_count": 22,
   "metadata": {},
   "outputs": [
    {
     "data": {
      "text/html": [
       "<div><style>\n",
       ".dataframe > thead > tr,\n",
       ".dataframe > tbody > tr {\n",
       "  text-align: right;\n",
       "  white-space: pre-wrap;\n",
       "}\n",
       "</style>\n",
       "<small>shape: (5, 5)</small><table border=\"1\" class=\"dataframe\"><thead><tr><th>item</th><th>candidate_item</th><th>co_visit_weight</th><th>locale</th><th>co_visit_rank</th></tr><tr><td>str</td><td>str</td><td>f64</td><td>str</td><td>u32</td></tr></thead><tbody><tr><td>&quot;0007440847&quot;</td><td>&quot;0261103563&quot;</td><td>0.5</td><td>&quot;DE&quot;</td><td>1</td></tr><tr><td>&quot;0007440847&quot;</td><td>&quot;3608938184&quot;</td><td>0.5</td><td>&quot;DE&quot;</td><td>1</td></tr><tr><td>&quot;0007440847&quot;</td><td>&quot;3608939849&quot;</td><td>0.4</td><td>&quot;DE&quot;</td><td>3</td></tr><tr><td>&quot;0007440847&quot;</td><td>&quot;3423214120&quot;</td><td>0.25</td><td>&quot;DE&quot;</td><td>4</td></tr><tr><td>&quot;0007440847&quot;</td><td>&quot;0008376107&quot;</td><td>0.25</td><td>&quot;DE&quot;</td><td>4</td></tr></tbody></table></div>"
      ],
      "text/plain": [
       "shape: (5, 5)\n",
       "┌────────────┬────────────────┬─────────────────┬────────┬───────────────┐\n",
       "│ item       ┆ candidate_item ┆ co_visit_weight ┆ locale ┆ co_visit_rank │\n",
       "│ ---        ┆ ---            ┆ ---             ┆ ---    ┆ ---           │\n",
       "│ str        ┆ str            ┆ f64             ┆ str    ┆ u32           │\n",
       "╞════════════╪════════════════╪═════════════════╪════════╪═══════════════╡\n",
       "│ 0007440847 ┆ 0261103563     ┆ 0.5             ┆ DE     ┆ 1             │\n",
       "│ 0007440847 ┆ 3608938184     ┆ 0.5             ┆ DE     ┆ 1             │\n",
       "│ 0007440847 ┆ 3608939849     ┆ 0.4             ┆ DE     ┆ 3             │\n",
       "│ 0007440847 ┆ 3423214120     ┆ 0.25            ┆ DE     ┆ 4             │\n",
       "│ 0007440847 ┆ 0008376107     ┆ 0.25            ┆ DE     ┆ 4             │\n",
       "└────────────┴────────────────┴─────────────────┴────────┴───────────────┘"
      ]
     },
     "execution_count": 22,
     "metadata": {},
     "output_type": "execute_result"
    }
   ],
   "source": [
    "co_visit_matrix.head()"
   ]
  },
  {
   "cell_type": "markdown",
   "metadata": {},
   "source": [
    "**Save the result**"
   ]
  },
  {
   "cell_type": "code",
   "execution_count": 23,
   "metadata": {},
   "outputs": [],
   "source": [
    "co_visit_matrix.write_parquet(\"/root/KDDCUP/KDDCUP_RECALL_INTERM/co_visit_matrix_{version}_for_train_or_eval.parquet\")"
   ]
  },
  {
   "cell_type": "markdown",
   "metadata": {},
   "source": [
    "**Test the training loss (MRR@100)**"
   ]
  },
  {
   "cell_type": "code",
   "execution_count": 24,
   "metadata": {},
   "outputs": [
    {
     "name": "stdout",
     "output_type": "stream",
     "text": [
      "MRR: 0.10847\n"
     ]
    }
   ],
   "source": [
    "train = pl.read_parquet(\"/root/KDDCUP/KDDCUP_DATA_CLEANED/task1_session_train.parquet\")\n",
    "\n",
    "# Get the last item\n",
    "last_item_list = []\n",
    "prev_items_list = train[\"prev_items\"].to_list()\n",
    "for prev_items in prev_items_list:\n",
    "    last_item_list.append(prev_items[-1])\n",
    "train = train.with_columns(pl.Series(name=\"last_item\", values=last_item_list))\n",
    "\n",
    "train = train[[\"session_id\", \"locale\", \"last_item\", \"next_item\"]]\n",
    "\n",
    "# Merge candidate and add label\n",
    "dfs = []\n",
    "label_lists = []\n",
    "for locale in LOCALES:\n",
    "    df = train.filter(pl.col(\"locale\")==locale)\n",
    "    matrix = co_visit_matrix.filter(pl.col(\"locale\")==locale)\n",
    "    df = df.join(matrix, left_on=[\"locale\", \"last_item\"], right_on=[\"locale\", \"item\"], how=\"left\")\n",
    "    df = df.sort([\"session_id\", \"consective_1_weight\"], descending=[False, True])\n",
    "    df = df.with_columns((pl.col(\"candidate_item\") == pl.col(\"next_item\")).cast(pl.Int8).alias(\"label\"))\n",
    "    label_lists.extend(df.group_by(\"session_id\", maintain_order=True).all()[\"label\"].to_list())\n",
    "    \n",
    "# MRR\n",
    "rr = 0\n",
    "for labels in label_lists:\n",
    "    labels = labels[:100]\n",
    "    for i, label in enumerate(labels):\n",
    "        if label == 1:\n",
    "            rr += 1 / (i+1)\n",
    "            break\n",
    "mrr = rr / len(label_lists)\n",
    "print(\"MRR:\", round(mrr, 5))"
   ]
  },
  {
   "cell_type": "markdown",
   "metadata": {},
   "source": [
    "**Now add the next_item into prev_item to do inference**"
   ]
  },
  {
   "cell_type": "code",
   "execution_count": 2,
   "metadata": {},
   "outputs": [
    {
     "ename": "NameError",
     "evalue": "name 'pl' is not defined",
     "output_type": "error",
     "traceback": [
      "\u001b[0;31m---------------------------------------------------------------------------\u001b[0m",
      "\u001b[0;31mNameError\u001b[0m                                 Traceback (most recent call last)",
      "Cell \u001b[0;32mIn[2], line 1\u001b[0m\n\u001b[0;32m----> 1\u001b[0m train \u001b[38;5;241m=\u001b[39m \u001b[43mpl\u001b[49m\u001b[38;5;241m.\u001b[39mread_parquet(\u001b[38;5;124m\"\u001b[39m\u001b[38;5;124m/root/KDDCUP/KDDCUP_DATA_CLEANED/task1_session_train.parquet\u001b[39m\u001b[38;5;124m\"\u001b[39m)\n\u001b[1;32m      3\u001b[0m \u001b[38;5;66;03m# Append train's next_item to prev_items\u001b[39;00m\n\u001b[1;32m      4\u001b[0m prev_items_list \u001b[38;5;241m=\u001b[39m train[\u001b[38;5;124m\"\u001b[39m\u001b[38;5;124mprev_items\u001b[39m\u001b[38;5;124m\"\u001b[39m]\u001b[38;5;241m.\u001b[39mto_list()\n",
      "\u001b[0;31mNameError\u001b[0m: name 'pl' is not defined"
     ]
    }
   ],
   "source": [
    "train = pl.read_parquet(\"/root/KDDCUP/KDDCUP_DATA_CLEANED/task1_session_train.parquet\")\n",
    "\n",
    "# Append train's next_item to prev_items\n",
    "prev_items_list = train[\"prev_items\"].to_list()\n",
    "next_item_list = train[\"next_item\"].to_list()\n",
    "prev_items_list_updated = []\n",
    "for prev_items, next_item in zip(prev_items_list, next_item_list):\n",
    "    prev_items.append(next_item)\n",
    "    prev_items_list_updated.append(prev_items)\n",
    "\n",
    "train = train.with_columns(\n",
    "    pl.Series(name=\"prev_items\", values=prev_items_list_updated)\n",
    ")\n",
    "\n",
    "# preprocess the data\n",
    "train = construct_session_sequnce(train)\n",
    "product = pl.read_parquet(\"/root/KDDCUP/KDDCUP_DATA_CLEANED/product.parquet\")\n",
    "co_visit_matrix = covisit_matrix(train)\n",
    "co_visit_matrix = filter_by_locale_availability(co_visit_matrix, product)\n"
   ]
  },
  {
   "cell_type": "markdown",
   "metadata": {},
   "source": [
    "**Save the result**"
   ]
  },
  {
   "cell_type": "code",
   "execution_count": null,
   "metadata": {},
   "outputs": [],
   "source": [
    "co_visit_matrix.write_parquet(\"/root/KDDCUP/KDDCUP_RECALL_INTERM/co_visit_matrix_{version}_for_inference.parquet\")"
   ]
  }
 ],
 "metadata": {
  "kernelspec": {
   "display_name": "base",
   "language": "python",
   "name": "python3"
  },
  "language_info": {
   "codemirror_mode": {
    "name": "ipython",
    "version": 3
   },
   "file_extension": ".py",
   "mimetype": "text/x-python",
   "name": "python",
   "nbconvert_exporter": "python",
   "pygments_lexer": "ipython3",
   "version": "3.10.8"
  }
 },
 "nbformat": 4,
 "nbformat_minor": 2
}
