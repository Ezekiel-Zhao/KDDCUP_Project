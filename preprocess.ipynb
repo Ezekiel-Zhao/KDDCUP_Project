{
 "cells": [
  {
   "cell_type": "markdown",
   "metadata": {},
   "source": [
    "**Load Library**"
   ]
  },
  {
   "cell_type": "code",
   "execution_count": 1,
   "metadata": {},
   "outputs": [],
   "source": [
    "import pandas as pd\n",
    "import numpy as np\n",
    "import polars as pl\n",
    "from tqdm import tqdm\n",
    "from collections import defaultdict"
   ]
  },
  {
   "cell_type": "markdown",
   "metadata": {},
   "source": [
    "**Load CSV File**"
   ]
  },
  {
   "cell_type": "code",
   "execution_count": 3,
   "metadata": {},
   "outputs": [],
   "source": [
    "session_train = pd.read_csv('/root/KDDCUP/KDDCUP数据集/sessions_train.csv')\n",
    "session_test_phase1 = pd.read_csv('/root/KDDCUP/KDDCUP数据集/sessions_test_task1.csv')\n",
    "session_test_phase2 = pd.read_csv('/root/KDDCUP/KDDCUP数据集/sessions_test_task1_phase1.csv')"
   ]
  },
  {
   "cell_type": "markdown",
   "metadata": {},
   "source": [
    "**Use pl data type**"
   ]
  },
  {
   "cell_type": "code",
   "execution_count": 4,
   "metadata": {},
   "outputs": [],
   "source": [
    "session_train = pl.from_pandas(session_train)\n",
    "session_test_phase1 = pl.from_pandas(session_test_phase1)\n",
    "session_test_phase2 = pl.from_pandas(session_test_phase2)"
   ]
  },
  {
   "cell_type": "markdown",
   "metadata": {},
   "source": [
    "**Task1 Only use data from DE, UK and JP Area, Delete the irrelevant ones**"
   ]
  },
  {
   "cell_type": "code",
   "execution_count": 5,
   "metadata": {},
   "outputs": [],
   "source": [
    "location = [\"DE\", \"UK\", \"JP\"]\n",
    "session_train = session_train.filter(pl.col(\"locale\").is_in(location))\n",
    "session_test_phase1 = session_test_phase1.filter(pl.col(\"locale\").is_in(location))\n",
    "session_test_phase2 = session_test_phase2.filter(pl.col(\"locale\").is_in(location))"
   ]
  },
  {
   "cell_type": "markdown",
   "metadata": {},
   "source": [
    "**Have a look with the data we found that session_test_phase1/2.prev_item contains characters only, not list of characters**"
   ]
  },
  {
   "cell_type": "code",
   "execution_count": 6,
   "metadata": {},
   "outputs": [
    {
     "data": {
      "text/html": [
       "<div><style>\n",
       ".dataframe > thead > tr,\n",
       ".dataframe > tbody > tr {\n",
       "  text-align: right;\n",
       "  white-space: pre-wrap;\n",
       "}\n",
       "</style>\n",
       "<small>shape: (5, 3)</small><table border=\"1\" class=\"dataframe\"><thead><tr><th>prev_items</th><th>next_item</th><th>locale</th></tr><tr><td>str</td><td>str</td><td>str</td></tr></thead><tbody><tr><td>&quot;[&#x27;B09W9FND7K&#x27; &#x27;B09JSPLN1M&#x27;]&quot;</td><td>&quot;B09M7GY217&quot;</td><td>&quot;DE&quot;</td></tr><tr><td>&quot;[&#x27;B076THCGSG&#x27; &#x27;B007MO8IME&#x27; &#x27;B0…</td><td>&quot;B001B4THSA&quot;</td><td>&quot;DE&quot;</td></tr><tr><td>&quot;[&#x27;B0B1LGXWDS&#x27; &#x27;B00AZYORS2&#x27; &#x27;B0…</td><td>&quot;B0767DTG2Q&quot;</td><td>&quot;DE&quot;</td></tr><tr><td>&quot;[&#x27;B09XMTWDVT&#x27; &#x27;B0B4MZZ8MB&#x27; &#x27;B0…</td><td>&quot;B0B4R9NN4B&quot;</td><td>&quot;DE&quot;</td></tr><tr><td>&quot;[&#x27;B09Y5CSL3T&#x27; &#x27;B09Y5DPTXN&#x27; &#x27;B0…</td><td>&quot;B0BGVBKWGZ&quot;</td><td>&quot;DE&quot;</td></tr></tbody></table></div>"
      ],
      "text/plain": [
       "shape: (5, 3)\n",
       "┌─────────────────────────────────┬────────────┬────────┐\n",
       "│ prev_items                      ┆ next_item  ┆ locale │\n",
       "│ ---                             ┆ ---        ┆ ---    │\n",
       "│ str                             ┆ str        ┆ str    │\n",
       "╞═════════════════════════════════╪════════════╪════════╡\n",
       "│ ['B09W9FND7K' 'B09JSPLN1M']     ┆ B09M7GY217 ┆ DE     │\n",
       "│ ['B076THCGSG' 'B007MO8IME' 'B0… ┆ B001B4THSA ┆ DE     │\n",
       "│ ['B0B1LGXWDS' 'B00AZYORS2' 'B0… ┆ B0767DTG2Q ┆ DE     │\n",
       "│ ['B09XMTWDVT' 'B0B4MZZ8MB' 'B0… ┆ B0B4R9NN4B ┆ DE     │\n",
       "│ ['B09Y5CSL3T' 'B09Y5DPTXN' 'B0… ┆ B0BGVBKWGZ ┆ DE     │\n",
       "└─────────────────────────────────┴────────────┴────────┘"
      ]
     },
     "execution_count": 6,
     "metadata": {},
     "output_type": "execute_result"
    }
   ],
   "source": [
    "session_train.head()"
   ]
  },
  {
   "cell_type": "markdown",
   "metadata": {},
   "source": [
    "**Therefore, furter step is needed**"
   ]
  },
  {
   "cell_type": "code",
   "execution_count": 7,
   "metadata": {},
   "outputs": [
    {
     "name": "stdout",
     "output_type": "stream",
     "text": [
      "CPU times: user 1.38 s, sys: 165 ms, total: 1.54 s\n",
      "Wall time: 1.54 s\n"
     ]
    }
   ],
   "source": [
    "%%time\n",
    "session_train = session_train.with_columns(\n",
    "    pl.col(\"prev_items\")\n",
    "    .str.replace_all(r\"[\\[\\]']\", \"\")  # Remove [ ] and ' \n",
    "    .str.split(\" \")  # Return a list of strings\n",
    "    .alias(\"prev_items\")\n",
    ")\n",
    "\n",
    "session_test_phase1 = session_test_phase1.with_columns(\n",
    "    pl.col(\"prev_items\")\n",
    "    .str.replace_all(r\"[\\[\\]']\", \"\")\n",
    "    .str.split(\" \")\n",
    "    .alias(\"prev_items\")\n",
    ")\n",
    "\n",
    "session_test_phase2 = session_test_phase2.with_columns(\n",
    "    pl.col(\"prev_items\")\n",
    "    .str.replace_all(r\"[\\[\\]']\", \"\")\n",
    "    .str.split(\" \")\n",
    "    .alias(\"prev_items\")\n",
    ")\n"
   ]
  },
  {
   "cell_type": "markdown",
   "metadata": {},
   "source": [
    "**Create the sessin id**"
   ]
  },
  {
   "cell_type": "code",
   "execution_count": 8,
   "metadata": {},
   "outputs": [],
   "source": [
    "session_train = session_train.with_columns(pl.Series(name=\"session_id\", values=[\"train_\" + str(i) for i in range(len(session_train))]))\n",
    "session_test_phase1 = session_test_phase1.with_columns(pl.Series(name=\"session_id\", values=[\"test_phase1_\" + str(i) for i in range(len(session_test_phase1))]))\n",
    "session_test_phase2 = session_test_phase2.with_columns(pl.Series(name=\"session_id\", values=[\"test_phase2_\" + str(i) for i in range(len(session_test_phase2))]))"
   ]
  },
  {
   "cell_type": "markdown",
   "metadata": {},
   "source": [
    "**Done, save them**"
   ]
  },
  {
   "cell_type": "code",
   "execution_count": 10,
   "metadata": {},
   "outputs": [],
   "source": [
    "session_train.write_parquet('/root/KDDCUP/KDDCUP_DATA_CLEANED/task1_session_train.parquet')\n",
    "session_test_phase1.write_parquet('/root/KDDCUP/KDDCUP_DATA_CLEANED/task1_session_test_phase1.parquet')\n",
    "session_test_phase2.write_parquet('/root/KDDCUP/KDDCUP_DATA_CLEANED/task1_session_test_phase2.parquet')\n"
   ]
  },
  {
   "cell_type": "markdown",
   "metadata": {},
   "source": [
    "**Now, clean the product dataset**"
   ]
  },
  {
   "cell_type": "code",
   "execution_count": 12,
   "metadata": {},
   "outputs": [],
   "source": [
    "product = pl.read_csv('/root/KDDCUP/KDDCUP数据集/products_train.csv')"
   ]
  },
  {
   "cell_type": "code",
   "execution_count": 13,
   "metadata": {},
   "outputs": [],
   "source": [
    "# there is an outlier in price\n",
    "product = product.with_columns(\n",
    "    pl.when(product['price'] == 40000000.07).then(None).otherwise(product['price']).alias(\"price\")\n",
    ")"
   ]
  },
  {
   "cell_type": "markdown",
   "metadata": {},
   "source": [
    "**Add columns indicate the avaliable regions for each product**"
   ]
  },
  {
   "cell_type": "code",
   "execution_count": 14,
   "metadata": {},
   "outputs": [
    {
     "name": "stderr",
     "output_type": "stream",
     "text": [
      " 16%|█▌        | 126467/778639 [00:00<00:01, 609854.58it/s]"
     ]
    },
    {
     "name": "stderr",
     "output_type": "stream",
     "text": [
      "100%|██████████| 778639/778639 [00:00<00:00, 793957.44it/s]\n",
      "/tmp/ipykernel_2530/149742766.py:9: MapWithoutReturnDtypeWarning: Calling `map_elements` without specifying `return_dtype` can lead to unpredictable results. Specify `return_dtype` to silence this warning.\n",
      "  product = product.with_columns(\n"
     ]
    }
   ],
   "source": [
    "product_id2locales = defaultdict(list)\n",
    "\n",
    "ids = product[\"id\"].to_list()\n",
    "locales = product[\"locale\"].to_list()\n",
    "\n",
    "for id, locale in tqdm(zip(ids, locales), total=len(ids)):\n",
    "    product_id2locales[id].append(locale)\n",
    "    \n",
    "product = product.with_columns(\n",
    "    pl.col(\"id\").map_elements(lambda x: product_id2locales.get(x, [])).alias(\"available_locales\")\n",
    ")"
   ]
  },
  {
   "cell_type": "markdown",
   "metadata": {},
   "source": [
    "**Save**"
   ]
  },
  {
   "cell_type": "code",
   "execution_count": 15,
   "metadata": {},
   "outputs": [],
   "source": [
    "product.write_parquet(\"/root/KDDCUP/KDDCUP_DATA_CLEANED/product.parquet\")"
   ]
  },
  {
   "cell_type": "code",
   "execution_count": null,
   "metadata": {},
   "outputs": [],
   "source": []
  }
 ],
 "metadata": {
  "kernelspec": {
   "display_name": "base",
   "language": "python",
   "name": "python3"
  },
  "language_info": {
   "codemirror_mode": {
    "name": "ipython",
    "version": 3
   },
   "file_extension": ".py",
   "mimetype": "text/x-python",
   "name": "python",
   "nbconvert_exporter": "python",
   "pygments_lexer": "ipython3",
   "version": "3.10.8"
  }
 },
 "nbformat": 4,
 "nbformat_minor": 2
}
